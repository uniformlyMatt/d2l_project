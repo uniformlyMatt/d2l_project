{
 "cells": [
  {
   "cell_type": "code",
   "execution_count": 33,
   "id": "7d279a3e-473f-401a-89e5-e3c28296b8ed",
   "metadata": {},
   "outputs": [],
   "source": [
    "import pandas as pd\n",
    "import shutil\n",
    "import os\n",
    "import csv\n",
    "import re\n",
    "    \n",
    "\n",
    "def get_heading(df: pd.DataFrame, cols=None):\n",
    "    \"\"\" Accepts a pandas DataFrame and list of columns\n",
    "        and creates a new 'heading' column.\n",
    "\n",
    "        :df:\n",
    "            pandas DataFrame\n",
    "        :cols:\n",
    "            list of columns used to make the 'heading'\n",
    "\n",
    "        :returns: df with 'heading' column added\n",
    "    \"\"\"\n",
    "\n",
    "    # change missing entries to empty strings\n",
    "    df[cols] = df[cols].fillna('')\n",
    "\n",
    "    df['heading'] = df[cols].agg('-'.join, axis=1)\n",
    "\n",
    "    return df\n",
    "\n",
    "\n",
    "def write_html(df: pd.DataFrame):\n",
    "    \"\"\" Accepts a pandas DataFrame and writes an html file \"\"\"\n",
    "    \n",
    "    # open the html template\n",
    "    with open('templates/template.html', 'r') as html_file:\n",
    "        HTML = html_file.read()\n",
    "        \n",
    "    # create column to store individual html markup\n",
    "    df['html'] = HTML\n",
    "\n",
    "\n",
    "def make_discussions(path: str, program_name: str) -> int:\n",
    "    \"\"\" Accepts a Microsoft Excel file path, builds pandas DataFrame with the 'heading' column,\n",
    "        and creates the corresponding XML/HTML files for the D2L Discussions.\n",
    "        \n",
    "        Stores all HTML files in temp_folder until ready to zip.\n",
    "    \"\"\"\n",
    "    \n",
    "    try:\n",
    "        os.mkdir('temp_folder')\n",
    "    except FileExistsError:\n",
    "        pass\n",
    "    \n",
    "\n",
    "    df = pd.read_excel(path)\n",
    "    \n",
    "    # string extra spaces from the columns\n",
    "    df.columns = list([col.strip() for col in list(df.columns)])\n",
    "    \n",
    "    # rename the columns to match the corresponding fields in the html template\n",
    "    with open('templates/html_fields.csv', 'r') as csvfile:\n",
    "        fields = dict(list(csv.DictReader(csvfile))[0])\n",
    "        \n",
    "    # change the name of the really long-named columns - these have been really problematic\n",
    "    for col in df.columns:\n",
    "        if len(col) > 32:\n",
    "            if re.search('(combined)', col):\n",
    "                df.rename(columns={col: 'combined_program'}, inplace=True)\n",
    "            if re.search('(advanced credit)', col):\n",
    "                df.rename(columns={col: 'advanced_credit'}, inplace=True)\n",
    "        \n",
    "    for key in fields.keys():\n",
    "        df.rename(columns={key: fields[key]}, inplace=True)\n",
    "        \n",
    "    # use only the columns that we need\n",
    "    df = df[fields.values()]\n",
    "    \n",
    "    # fill in missing values with empty string\n",
    "    df.fillna('', inplace=True)\n",
    "        \n",
    "    # put names in proper case\n",
    "    df['first_name'] = df['first_name'].str.title()\n",
    "    df['last_name'] = df['last_name'].str.title()\n",
    "\n",
    "    # convert student ID to string\n",
    "    df['student_number'] = df['student_number'].apply(str)\n",
    "    \n",
    "    # copy the index column to an ID column\n",
    "    df['ID'] = df.index\n",
    "    df['ID'] = df['ID'].apply(str)\n",
    "\n",
    "    # create a new column of discussion topics for all students\n",
    "    with open('templates/DiscussionTemplate.txt', 'r') as single_topic:\n",
    "        text = single_topic.read()\n",
    "    df['discussion_topic'] = text\n",
    "    \n",
    "    # replace the FILENAME in the discussion with the 'html_filename' values\n",
    "    df['discussion_topic'] = df.apply(lambda x: x['discussion_topic'].replace('FILENAME', x['html_filename']), axis=1)\n",
    "\n",
    "    # replace the fields in the discussion topic column with the corresponding student data\n",
    "    for field in fields.values():\n",
    "        df['discussion_topic'] = df.apply(lambda x: x['discussion_topic'].replace(field, x[field]), axis=1)\n",
    "        \n",
    "    # replace the ID tag in the XML markup\n",
    "    df['discussion_topic'] = df.apply(lambda x: x['discussion_topic'].replace('IDnumberHERE', x['ID']), axis=1)\n",
    "    \n",
    "    return df\n",
    "\n",
    "\n",
    "def make_forum(df: pd.DataFrame, year_of_application: int):\n",
    "    \"\"\" Accepts a pandas DataFrame of student discussions and creates the D2L \n",
    "        discussion forum object by filling in discussion_d2l_TemplateFile.txt\n",
    "    \"\"\"\n",
    "    \n",
    "    with open('templates/discussion_d2l_TemplateFile.txt', 'r') as all_students:\n",
    "        forum = all_students.read()\n",
    "        \n",
    "    all_topics = ''.join(df['discussion_topic'].to_list())\n",
    "    forum = forum.replace(\"InsertTopicHere\", all_topics)\n",
    "    forum = forum.replace(\"TOPIC_TITLE\", str(year_of_application) + \" Applications\")\n",
    "    \n",
    "    with open('temp_folder/d2l_disc.xml', 'w') as file:\n",
    "        file.write(forum)\n",
    "        \n",
    "    return 0"
   ]
  },
  {
   "cell_type": "code",
   "execution_count": 85,
   "id": "8d44925a-9a3f-4471-bc7e-417e619ef838",
   "metadata": {},
   "outputs": [],
   "source": [
    "df1 = pd.read_excel('PHAS Fall 2022 admission.xlsx')"
   ]
  },
  {
   "cell_type": "code",
   "execution_count": 46,
   "id": "d43e05fa-c509-47d4-9489-1d37e7596eb8",
   "metadata": {},
   "outputs": [],
   "source": [
    "def write_html(df: pd.DataFrame):\n",
    "    \"\"\" Accepts a pandas DataFrame and writes an html file \"\"\"\n",
    "\n",
    "    # open the html template\n",
    "    with open('templates/template.html', 'r') as html_file:\n",
    "        html = html_file.read()\n",
    "        \n",
    "    # get the application fields from the html_fields.csv template\n",
    "    with open('templates/html_fields.csv', 'r') as csvfile:\n",
    "        fields = dict(list(csv.DictReader(csvfile))[0])\n",
    "        \n",
    "    # create a filename column, replacing spaces with empty strings\n",
    "    df['html_filename'] = df['first_name'].str.replace(' ', '') + df['last_name'].str.replace(' ', '') + df['student_number'] + '.html'\n",
    "                \n",
    "    # create column to store individual html markup\n",
    "    df['html'] = html\n",
    "        \n",
    "    # replace the fields in the html column with the corresponding student data\n",
    "    for field in fields.values():\n",
    "        df['html'] = df.apply(lambda x: x['html'].replace(field, x[field]), axis=1)\n",
    "\n",
    "    # write the html files for each student\n",
    "    def save_html(filename: str, htmlfile: str):\n",
    "        \"\"\" Accepts a filename and write htmlfile to it. \"\"\"\n",
    "        with open('temp_folder/{}'.format(filename), 'w') as file:\n",
    "            file.write(htmlfile)\n",
    "        \n",
    "            \n",
    "    df.apply(lambda x: save_html(x['html_filename'], x['html']), axis=1)\n",
    "    \n",
    "    return 0"
   ]
  },
  {
   "cell_type": "code",
   "execution_count": 47,
   "id": "b5271128-9629-461e-8051-db4b796d2b9f",
   "metadata": {
    "tags": []
   },
   "outputs": [],
   "source": [
    "df = make_discussions('PHAS Fall 2022 admission.xlsx', 'PHAS')"
   ]
  },
  {
   "cell_type": "code",
   "execution_count": 48,
   "id": "b6fd089b-78dd-42bc-a343-a9ea0142851a",
   "metadata": {},
   "outputs": [
    {
     "data": {
      "text/plain": [
       "Index(['first_name', 'last_name', 'student_number', 'acad_program',\n",
       "       'acad_plan', 'country_par', 'residency_par', 'combined_program',\n",
       "       'advanced_credit', 'research_areas', 'statement_par', 'gpa_etc',\n",
       "       'awards_par', 'financial_support', 'job_experience', 'publications_par',\n",
       "       'other_par', 'ID', 'discussion_topic', 'html_filename'],\n",
       "      dtype='object')"
      ]
     },
     "execution_count": 48,
     "metadata": {},
     "output_type": "execute_result"
    }
   ],
   "source": [
    "df.columns"
   ]
  },
  {
   "cell_type": "code",
   "execution_count": 49,
   "id": "0b9bc78a-d0cf-433e-a231-31db22e09d42",
   "metadata": {},
   "outputs": [],
   "source": [
    "write_html(df)"
   ]
  },
  {
   "cell_type": "code",
   "execution_count": 20,
   "id": "ff457a32-60bf-4140-b5db-46253f0ca9f3",
   "metadata": {},
   "outputs": [
    {
     "data": {
      "text/plain": [
       "Index(['first_name', 'last_name', 'student_number', 'acad_program',\n",
       "       'acad_plan', 'country_par', 'residency_par', 'combined_program',\n",
       "       'advanced_credit', 'research_areas', 'statement_par', 'gpa_etc',\n",
       "       'awards_par', 'financial_support', 'job_experience', 'publications_par',\n",
       "       'other_par', 'ID', 'discussion_topic', 'html_filename', 'html'],\n",
       "      dtype='object')"
      ]
     },
     "execution_count": 20,
     "metadata": {},
     "output_type": "execute_result"
    }
   ],
   "source": [
    "df.columns"
   ]
  },
  {
   "cell_type": "code",
   "execution_count": 21,
   "id": "4e18d10a-9150-4e58-81ea-e7e2defacef2",
   "metadata": {},
   "outputs": [
    {
     "data": {
      "text/plain": [
       "'<!DOCTYPE html>\\n<html>\\n<head>\\n</head>\\n<body style=\"font-family: verdana, sans-serif;font-size: 12px;color: #494c4e;\">\\n<table border=\"1\" style=\"border-collapse: collapse; width: 99.9107%; background-color: #FBEEB8;\">\\n<tbody>\\n<tr>\\n<td style=\"width: 98.6497%;\"><strong><span style=\"font-size: 24px;\">Aravind Rajendran 30183838&nbsp;</span></strong></td>\\n</tr>\\n</tbody>\\n</table>\\n<p><span style=\"font-size: 16px;\"><strong>GSDOC, ASPH-G-SPC</strong></span></p>\\n<p><span style=\"font-size: 16px;\"><strong>Gender</strong>: theGender<br> <strong>Country</strong>: India<br> <strong>Residency:</strong> International</span></p>\\n\\n<p><span style=\"font-size: 16px;\"><strong>Are you applying to a combined program?&nbsp;</strong>&nbsp;No.  </span></p>\\n<p><span style=\"font-size: 16px;\"><strong>Are you looking for advanced credit?</strong>&nbsp;No.  </span></p>\\n<hr>\\n<p><span style=\"font-size: 19px; color: #cd2026;\"><strong>Research Areas</strong></span></p>\\n<p><span style=\"font-size: 16px;\">research_par</span></p>\\n<hr>\\n<p><span style=\"font-size: 19px; color: #cd2026;\"><strong>Statement</strong></span></p>\\n<p><span style=\"font-size: 16px;\">I wanted to explore the field of astronomy in length and breadth so that I get the satisfaction that I contributed to the advancement of the field of astronomy. This has been my passion and dream for a long term. I am highly motivated to work on the topic of stars especially on its formation, life cycle and its metallicity. Also, the topic of galaxies, mainly its dynamics, formation and evolution, are also highly interesting to me. I am very passionate about astronomy and wish to pursue my future career in it. My life goal is to provide a small contribu- tion of my own to the field through hard work and the adequate use of my skills. Doing research in astronomy is something that gives satisfaction and happiness in my life and I am quite intrigued to discover new things. I am confident that I can contribute to the field of astronomy by adequate use of my skills and experiences. I am highly motivated and inspired to work hard until I obtain what I needed. I had the strong belief that I will be able to complete the given tasks within time with the help of given resources. I am curious about things and not reluctant to ask questions.</span></p>\\n<hr>\\n<p><span style=\"font-size: 19px; color: #cd2026;\"><strong>GPA etc.</strong></span></p>\\n<p><span style=\"font-size: 16px;\">I have done Master of Science in Astronomy and Astrophysics at Research School of Astronomy and Astrophysics (RSAA) in Australian National University (ANU), Canberra which was completed in June 2021 with a grade point of 4.88 (Overall). This course helped me to enhance my research abilities by providing me opportunities to work with highly reputed astronomers and academicians on a wide variety of topics. Also, I hold bachelors and masters degrees in science with physics and mathematics as the core subjects with a GPA of 8 out of 10.</span></p>\\n<hr>\\n<p><span style=\"font-size: 19px; color: #cd2026;\"><strong>Awards</strong></span></p>\\n<p><span style=\"font-size: 16px;\"></span></p>\\n<hr>\\n<p><span style=\"font-size: 19px; color: #cd2026;\"><strong>Financial Support</strong></span></p>\\n<p><span style=\"font-size: 16px;\">Currently, no funding is received</span></p>\\n<hr>\\n<p><span style=\"font-size: 19px; color: #cd2026;\"><strong>Job experience</strong></span></p>\\n<p><span style=\"font-size: 16px;\"></span></p>\\n<hr>\\n<p><span style=\"font-size: 19px; color: #cd2026;\"><strong>Publications</strong></span></p>\\n<p><span style=\"font-size: 16px;\"></span></p>\\n<hr>\\n<p><span style=\"font-size: 19px; color: #cd2026;\"><strong>Other</strong></span></p>\\n<p><span style=\"font-size: 16px;\">Currently, I am working on a data reduction project, on velocities of RR Lyrae variable using data from 2.3-m telescope. The reduction is done using PyWifes. This project is done under the supervision of Professor Kenneth C. Freeman with the ultimate goal of publishing a paper.</span></p>\\n</body>\\n</html>\\n'"
      ]
     },
     "execution_count": 21,
     "metadata": {},
     "output_type": "execute_result"
    }
   ],
   "source": [
    "df.loc[0, 'html']"
   ]
  },
  {
   "cell_type": "code",
   "execution_count": 22,
   "id": "bacf0150-45a4-4420-9a4f-1851903b7e95",
   "metadata": {},
   "outputs": [
    {
     "data": {
      "text/plain": [
       "Index(['first_name', 'last_name', 'student_number', 'acad_program',\n",
       "       'acad_plan', 'country_par', 'residency_par', 'combined_program',\n",
       "       'advanced_credit', 'research_areas', 'statement_par', 'gpa_etc',\n",
       "       'awards_par', 'financial_support', 'job_experience', 'publications_par',\n",
       "       'other_par', 'ID', 'discussion_topic', 'html_filename', 'html'],\n",
       "      dtype='object')"
      ]
     },
     "execution_count": 22,
     "metadata": {},
     "output_type": "execute_result"
    }
   ],
   "source": [
    "df.columns"
   ]
  },
  {
   "cell_type": "code",
   "execution_count": 51,
   "id": "fd167def-aba1-4a14-bb7b-2b68ff221af2",
   "metadata": {},
   "outputs": [
    {
     "data": {
      "text/plain": [
       "'/home/matt/PycharmProjects/d2l_project/test.zip'"
      ]
     },
     "execution_count": 51,
     "metadata": {},
     "output_type": "execute_result"
    }
   ],
   "source": [
    "archive = 'temp_folder'\n",
    "\n",
    "shutil.make_archive('test', 'zip', archive)"
   ]
  },
  {
   "cell_type": "code",
   "execution_count": null,
   "id": "c09749f4-d8f9-4296-8114-7fa39f0ab195",
   "metadata": {},
   "outputs": [],
   "source": []
  }
 ],
 "metadata": {
  "kernelspec": {
   "display_name": "Python 3",
   "language": "python",
   "name": "python3"
  },
  "language_info": {
   "codemirror_mode": {
    "name": "ipython",
    "version": 3
   },
   "file_extension": ".py",
   "mimetype": "text/x-python",
   "name": "python",
   "nbconvert_exporter": "python",
   "pygments_lexer": "ipython3",
   "version": "3.7.10"
  }
 },
 "nbformat": 4,
 "nbformat_minor": 5
}
