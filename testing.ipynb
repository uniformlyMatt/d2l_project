{
 "cells": [
  {
   "cell_type": "code",
   "execution_count": 129,
   "id": "7d279a3e-473f-401a-89e5-e3c28296b8ed",
   "metadata": {},
   "outputs": [],
   "source": [
    "import pandas as pd\n",
    "import shutil\n",
    "import os\n",
    "import csv\n",
    "import re\n",
    "    \n",
    "\n",
    "def get_heading(df: pd.DataFrame, cols=None):\n",
    "    \"\"\" Accepts a pandas DataFrame and list of columns\n",
    "        and creates a new 'heading' column.\n",
    "\n",
    "        :df:\n",
    "            pandas DataFrame\n",
    "        :cols:\n",
    "            list of columns used to make the 'heading'\n",
    "\n",
    "        :returns: df with 'heading' column added\n",
    "    \"\"\"\n",
    "\n",
    "    # change missing entries to empty strings\n",
    "    df[cols] = df[cols].fillna('')\n",
    "\n",
    "    df['heading'] = df[cols].agg('-'.join, axis=1)\n",
    "\n",
    "    return df\n",
    "\n",
    "\n",
    "def write_html(df: pd.DataFrame):\n",
    "    \"\"\" Accepts a pandas DataFrame and writes an html file \"\"\"\n",
    "    \n",
    "    # open the html template\n",
    "    with open('templates/template.html', 'r') as html_file:\n",
    "        HTML = html_file.read()\n",
    "        \n",
    "    # create column to store individual html markup\n",
    "    df['html'] = HTML\n",
    "\n",
    "\n",
    "def make_discussions(path: str, program_name: str) -> int:\n",
    "    \"\"\" Accepts a Microsoft Excel file path, builds pandas DataFrame with the 'heading' column,\n",
    "        and creates the corresponding XML/HTML files for the D2L Discussions.\n",
    "        \n",
    "        Stores all HTML files in temp_folder until ready to zip.\n",
    "    \"\"\"\n",
    "    \n",
    "    try:\n",
    "        os.mkdir('temp_folder')\n",
    "    except FileExistsError:\n",
    "        pass\n",
    "    \n",
    "\n",
    "    df = pd.read_excel(path)\n",
    "    \n",
    "    # string extra spaces from the columns\n",
    "    df.columns = list([col.strip() for col in list(df.columns)])\n",
    "    \n",
    "    # rename the columns to match the corresponding fields in the html template\n",
    "    with open('templates/html_fields.csv', 'r') as csvfile:\n",
    "        fields = dict(list(csv.DictReader(csvfile))[0])\n",
    "        \n",
    "    # change the name of the really long-named columns - these have been really problematic\n",
    "    for col in df.columns:\n",
    "        if len(col) > 32:\n",
    "            if re.search('(combined)', col):\n",
    "                df.rename(columns={col: 'combined_program'}, inplace=True)\n",
    "            if re.search('(advanced credit)', col):\n",
    "                df.rename(columns={col: 'advanced_credit'}, inplace=True)\n",
    "        \n",
    "    for key in fields.keys():\n",
    "        df.rename(columns={key: fields[key]}, inplace=True)\n",
    "        \n",
    "    # use only the columns that we need\n",
    "    df = df[fields.values()]\n",
    "    \n",
    "    # fill in missing values with empty string\n",
    "    df.fillna('', inplace=True)\n",
    "        \n",
    "    # put names in proper case\n",
    "    df['first_name'] = df['first_name'].str.title()\n",
    "    df['last_name'] = df['last_name'].str.title()\n",
    "\n",
    "    # convert student ID to string\n",
    "    df['student_number'] = df['student_number'].apply(str)\n",
    "    \n",
    "    # copy the index column to an ID column\n",
    "    df['ID'] = df.index\n",
    "    df['ID'] = df['ID'].apply(str)\n",
    "\n",
    "    # create a new column of discussion topics for all students\n",
    "    with open('templates/DiscussionTemplate.txt', 'r') as single_topic:\n",
    "        text = single_topic.read()\n",
    "    df['discussion_topic'] = text\n",
    "    \n",
    "    # create a filename column, replacing spaces with empty strings\n",
    "    df['html_filename'] = df['first_name'].str.replace(' ', '') + df['last_name'].str.replace(' ', '') + df['student_number'] + '.html'\n",
    "    \n",
    "    # replace the FILENAME in the discussion with the 'html_filename' values\n",
    "    df['discussion_topic'] = df.apply(lambda x: x['discussion_topic'].replace('FILENAME', x['html_filename']), axis=1)\n",
    "\n",
    "    # replace the fields in the discussion topic column with the corresponding student data\n",
    "    for field in fields.values():\n",
    "        df['discussion_topic'] = df.apply(lambda x: x['discussion_topic'].replace(field, x[field]), axis=1)\n",
    "        \n",
    "    # replace the ID tag in the XML markup\n",
    "    df['discussion_topic'] = df.apply(lambda x: x['discussion_topic'].replace('IDnumberHERE', x['ID']), axis=1)\n",
    "    \n",
    "    return df\n",
    "\n",
    "\n",
    "def make_forum(df: pd.DataFrame, year_of_application: int):\n",
    "    \"\"\" Accepts a pandas DataFrame of student discussions and creates the D2L \n",
    "        discussion forum object by filling in discussion_d2l_TemplateFile.txt\n",
    "    \"\"\"\n",
    "    \n",
    "    with open('templates/discussion_d2l_TemplateFile.txt', 'r') as all_students:\n",
    "        forum = all_students.read()\n",
    "        \n",
    "    all_topics = ''.join(df['discussion_topic'].to_list())\n",
    "    forum = forum.replace(\"InsertTopicHere\", all_topics)\n",
    "    forum = forum.replace(\"TOPIC_TITLE\", str(year_of_application) + \" Applications\")\n",
    "    \n",
    "    with open('temp_folder/d2l_disc.xml', 'w') as file:\n",
    "        file.write(forum)\n",
    "        \n",
    "    return 0"
   ]
  },
  {
   "cell_type": "code",
   "execution_count": 130,
   "id": "b5271128-9629-461e-8051-db4b796d2b9f",
   "metadata": {
    "tags": []
   },
   "outputs": [],
   "source": [
    "df = make_discussions('PHAS Fall 2022 admission.xlsx', 'PHAS')"
   ]
  },
  {
   "cell_type": "code",
   "execution_count": 131,
   "id": "16966750-9943-4e4d-9eaa-4c5e410bae49",
   "metadata": {
    "tags": []
   },
   "outputs": [
    {
     "data": {
      "text/plain": [
       "0"
      ]
     },
     "execution_count": 131,
     "metadata": {},
     "output_type": "execute_result"
    }
   ],
   "source": [
    "make_forum(df, 2022)"
   ]
  },
  {
   "cell_type": "code",
   "execution_count": 85,
   "id": "8d44925a-9a3f-4471-bc7e-417e619ef838",
   "metadata": {},
   "outputs": [],
   "source": [
    "df1 = pd.read_excel('PHAS Fall 2022 admission.xlsx')"
   ]
  },
  {
   "cell_type": "code",
   "execution_count": 87,
   "id": "74504157-6cd3-4244-98f5-83082019d944",
   "metadata": {},
   "outputs": [
    {
     "data": {
      "text/plain": [
       "Index(['Acad Group Code', 'Primary Acad Plan Code', 'Acad Prog Code',\n",
       "       'Degree Plan Code', 'Academic Plan 1 Code', 'Academic Plan 2 Code',\n",
       "       'Academic Plan 3 Code', 'Person First Name', 'Person Last Name',\n",
       "       'Student ID', 'Mailing Address', 'Person Phone', 'Person Email Addr',\n",
       "       'Gender', 'Person Disability Ind', 'Person Aboriginal Ind',\n",
       "       'Birth Date', 'Country', 'Residency', 'Application Status Desc',\n",
       "       'Ref 1 First Name', 'Ref 1 Last Name', 'Ref 1 Phone',\n",
       "       'Ref 1 Organization Name', 'Ref 1 Title', 'Ref 2 First Name',\n",
       "       'Ref 2 Last Name', 'Ref 2 Phone', 'Ref 2 Organization Name',\n",
       "       'Ref 2 Title', 'Ref 3 First Name', 'Ref 3 Last Name', 'Ref 3 Phone',\n",
       "       'Ref 3 Organization Name', 'Ref 3 Title',\n",
       "       'Are you applying to a combined program? (Example: MBA/JD) If yes, specify which program. ',\n",
       "       ' Are you looking for advanced credit? If yes, please list the courses you wish to receive credit for.  ',\n",
       "       'Faculty Question 3', 'Faculty Question 4', 'Program Change Ind',\n",
       "       'research areas', 'Statement', 'GPA etc.', 'Awards',\n",
       "       'Financial support', 'Jobs', 'Publications', 'Other'],\n",
       "      dtype='object')"
      ]
     },
     "execution_count": 87,
     "metadata": {},
     "output_type": "execute_result"
    }
   ],
   "source": [
    "df1.columns"
   ]
  },
  {
   "cell_type": "code",
   "execution_count": 17,
   "id": "362472cc-8e49-48ff-a3f2-fc68247737b7",
   "metadata": {},
   "outputs": [],
   "source": [
    "html_fields = {\n",
    "    'personal_info': {\n",
    "        'first_name': 'Person First Name',\n",
    "        'last_name': 'Person Last Name',\n",
    "        'student_number': 'Student ID'\n",
    "    },\n",
    "    'program_info': {\n",
    "        'academic_program': 'Acad Prog Code',\n",
    "        'academic_plan': 'Academic Plan 1 Code',\n",
    "        'combined_program': 'Are you applying to a combined program? (Example: MBA/JD) If yes, specify which program. ',\n",
    "        'advanced_credit': ' Are you looking for advanced credit? If yes, please list the courses you wish to receive credit for.  '\n",
    "    },\n",
    "    'residency_info': {\n",
    "        'country_par': 'Country',\n",
    "        'residency_par': 'Residency'\n",
    "    },\n",
    "    'academic_info': {\n",
    "        'research_areas': 'research areas',\n",
    "        'statement_par': 'Statement',\n",
    "        'gpa_etc': 'GPA etc.',\n",
    "        'awards_par': 'Awards',\n",
    "        'financial_support': 'Financial support',\n",
    "        'job_experience': 'Jobs',\n",
    "        'publications_par': 'Publications',\n",
    "        'other_par': 'Other'\n",
    "    }\n",
    "}"
   ]
  },
  {
   "cell_type": "code",
   "execution_count": 18,
   "id": "a436c8da-1488-4f40-aa82-62b3b8ad1eea",
   "metadata": {},
   "outputs": [],
   "source": [
    "import json\n",
    "\n",
    "with open('templates/html_fields.json', 'w') as file:\n",
    "    json.dump(html_fields, file)"
   ]
  },
  {
   "cell_type": "code",
   "execution_count": 19,
   "id": "c3e1603c-c504-4ca9-bd37-c8afed23018a",
   "metadata": {},
   "outputs": [],
   "source": [
    "with open('templates/html_fields.json', 'r') as file:\n",
    "    d1 = json.load(file)"
   ]
  },
  {
   "cell_type": "code",
   "execution_count": 20,
   "id": "8fc36e52-df00-43a7-bcdd-7ee1bedc8dfc",
   "metadata": {},
   "outputs": [
    {
     "data": {
      "text/plain": [
       "{'personal_info': {'first_name': 'Person First Name',\n",
       "  'last_name': 'Person Last Name',\n",
       "  'student_number': 'Student ID'},\n",
       " 'program_info': {'academic_program': 'Acad Prog Code',\n",
       "  'academic_plan': 'Academic Plan 1 Code',\n",
       "  'combined_program': 'Are you applying to a combined program? (Example: MBA/JD) If yes, specify which program. ',\n",
       "  'advanced_credit': ' Are you looking for advanced credit? If yes, please list the courses you wish to receive credit for.  '},\n",
       " 'residency_info': {'country_par': 'Country', 'residency_par': 'Residency'},\n",
       " 'academic_info': {'research_areas': 'research areas',\n",
       "  'statement_par': 'Statement',\n",
       "  'gpa_etc': 'GPA etc.',\n",
       "  'awards_par': 'Awards',\n",
       "  'financial_support': 'Financial support',\n",
       "  'job_experience': 'Jobs',\n",
       "  'publications_par': 'Publications',\n",
       "  'other_par': 'Other'}}"
      ]
     },
     "execution_count": 20,
     "metadata": {},
     "output_type": "execute_result"
    }
   ],
   "source": [
    "d1"
   ]
  },
  {
   "cell_type": "code",
   "execution_count": null,
   "id": "d43e05fa-c509-47d4-9489-1d37e7596eb8",
   "metadata": {},
   "outputs": [],
   "source": []
  }
 ],
 "metadata": {
  "kernelspec": {
   "display_name": "Python 3",
   "language": "python",
   "name": "python3"
  },
  "language_info": {
   "codemirror_mode": {
    "name": "ipython",
    "version": 3
   },
   "file_extension": ".py",
   "mimetype": "text/x-python",
   "name": "python",
   "nbconvert_exporter": "python",
   "pygments_lexer": "ipython3",
   "version": "3.7.10"
  }
 },
 "nbformat": 4,
 "nbformat_minor": 5
}
