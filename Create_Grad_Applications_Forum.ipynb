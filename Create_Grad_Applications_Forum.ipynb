{
 "cells": [
  {
   "cell_type": "code",
   "execution_count": 1,
   "metadata": {},
   "outputs": [],
   "source": [
    "import numpy as np\n",
    "import pandas as pd\n",
    "import os\n",
    "import shutil\n",
    "\n",
    "import read_write_html as rwhtml"
   ]
  },
  {
   "cell_type": "code",
   "execution_count": 2,
   "metadata": {},
   "outputs": [],
   "source": [
    "application_filename = \"PHAS Fall 2022 admission.xlsx\"\n",
    "year_of_application = \"2022\""
   ]
  },
  {
   "cell_type": "code",
   "execution_count": 3,
   "metadata": {},
   "outputs": [],
   "source": [
    "foldername = \"D2L_import\" + str(np.random.randint(1000,9999))\n",
    "\n",
    "os.mkdir(foldername)"
   ]
  },
  {
   "cell_type": "code",
   "execution_count": 4,
   "metadata": {},
   "outputs": [],
   "source": [
    "application_data = pd.read_excel(application_filename)\n",
    "\n",
    "f = open('discussion_d2l_TemplateFile.txt', 'r')\n",
    "\n",
    "XML = f.read()\n",
    "\n",
    "f = open('DiscussionTemplate.txt', 'r')\n",
    "\n",
    "discussion = f.read()\n",
    "\n",
    "append_discussion = \"\"\n",
    "\n",
    "counter = 2\n",
    "for row in range(application_data.shape[0]):\n",
    "\n",
    "    FN, LN, SID,APc, APlc, fname = rwhtml.write_html(row, application_data, year=year_of_application, foldername=foldername, write=True)\n",
    "\n",
    "    temp_discussion = discussion\n",
    "    \n",
    "    temp_discussion = temp_discussion.replace(\"FILENAME\", fname)\n",
    "    temp_discussion = temp_discussion.replace(\"FirstName\", FN)\n",
    "    temp_discussion = temp_discussion.replace(\"LastName\", LN)\n",
    "    temp_discussion = temp_discussion.replace(\"StudentNumber\", SID)\n",
    "    temp_discussion = temp_discussion.replace(\"AcadProgram\", APc)\n",
    "    temp_discussion = temp_discussion.replace(\"AcademicPlan\", APlc)\n",
    "    \n",
    "    ID = str(counter)\n",
    "    counter = counter+1\n",
    "    temp_discussion = temp_discussion.replace(\"IDnumberHERE\", ID)\n",
    "    \n",
    "    append_discussion = append_discussion + temp_discussion\n",
    "    \n",
    "XML = XML.replace(\"InsertTopicHere\", append_discussion)\n",
    "XML = XML.replace(\"TOPIC_TITLE\", year_of_application + \" Applications\")\n",
    "\n",
    "fname =  \"discussion_d2l_1.xml\"\n",
    "with open( foldername + \"/\" + fname, 'w') as f:\n",
    "    f.write(XML)\n",
    "    f.close()"
   ]
  },
  {
   "cell_type": "code",
   "execution_count": 5,
   "metadata": {},
   "outputs": [],
   "source": [
    "shutil.copy(\"courseimage_d2l.xml\", foldername)\n",
    "shutil.copy(\"imsmanifest.xml\", foldername);"
   ]
  },
  {
   "cell_type": "code",
   "execution_count": 6,
   "metadata": {},
   "outputs": [
    {
     "data": {
      "text/plain": [
       "'/home/matt/PycharmProjects/d2l_project/D2L_import4272.zip'"
      ]
     },
     "execution_count": 6,
     "metadata": {},
     "output_type": "execute_result"
    }
   ],
   "source": [
    "shutil.make_archive(foldername , 'zip', foldername)"
   ]
  },
  {
   "cell_type": "code",
   "execution_count": 7,
   "metadata": {},
   "outputs": [],
   "source": [
    "def get_data(row,  key, application_data):\n",
    "    \n",
    "    data = application_data[key][row]\n",
    "    \n",
    "    data = str(data)\n",
    "    \n",
    "    if data ==\"nan\":\n",
    "        return \"\"\n",
    "    else:\n",
    "        return data"
   ]
  },
  {
   "cell_type": "code",
   "execution_count": 8,
   "metadata": {},
   "outputs": [],
   "source": [
    "def write_html(row, application_data, write=False):\n",
    "    \n",
    "    f = open('template.html', 'r')\n",
    "\n",
    "    HTML = f.read()\n",
    "    \n",
    "    FN = get_data(row, \"Person First Name\", application_data)\n",
    "    LN = get_data(row, \"Person Last Name\", application_data)\n",
    "    APc = get_data(row, \"Acad Prog Code\", application_data)\n",
    "    APlc = get_data(row, \"Academic Plan 1 Code\", application_data)\n",
    "    SID =  get_data(row, \"Student ID\", application_data)\n",
    "    Q1 = get_data(row, \"Are you applying to a combined program?\\xa0(Example: MBA/JD) If yes, specify which program.\\xa0\", application_data)\n",
    "    Q2 = get_data(row, \" Are you looking for\\xa0advanced credit? If yes, please list the courses you wish to receive credit for.\\xa0 \", application_data)\n",
    "    RA = get_data(row, \"research areas\", application_data)\n",
    "    St = get_data(row, \"Statement\", application_data)\n",
    "    GPA = get_data(row, \"GPA etc.\", application_data)\n",
    "    Aw = get_data(row, \"Awards\", application_data)\n",
    "    Fs = get_data(row, \"Financial support\", application_data)\n",
    "    Pub = get_data(row, \"Publications\", application_data)\n",
    "    Jobs = get_data(row, \"Jobs\", application_data)\n",
    "    Other = get_data(row, \"Other\", application_data)\n",
    "    \n",
    "    Gender = get_data(row, \"Gender\", application_data)\n",
    "    Country = get_data(row, \"Country\", application_data)\n",
    "    Residence = get_data(row, \"Residency\", application_data)\n",
    "    \n",
    "    Bday = application_data[\"Birth Date\"][row]\n",
    "    birthday = str(Bday.year) + \"-\" + str(Bday.month) + \"-\" + str(Bday.day)\n",
    "    \n",
    "    \n",
    "    HTML = HTML.replace(\"FirstName\", FN)\n",
    "    HTML = HTML.replace(\"LastName\", LN)\n",
    "    HTML = HTML.replace(\"StudentNumber\", SID)\n",
    "    HTML = HTML.replace(\"AcadProgram\", APc)\n",
    "    HTML = HTML.replace(\"AcademicPlan\", APlc)\n",
    "    HTML =HTML.replace(\"Question1\", Q1)\n",
    "    HTML =HTML.replace(\"Question2\", Q2)\n",
    "    HTML =HTML.replace(\"RAparagraph\", RA)\n",
    "    HTML =HTML.replace(\"STparagraph\", St)\n",
    "    HTML =HTML.replace(\"GPAparagraph\", GPA)\n",
    "    HTML =HTML.replace(\"AWparagraph\", Aw)\n",
    "    HTML =HTML.replace(\"FSparagraph\", Fs)\n",
    "    HTML =HTML.replace(\"JEparagraph\", Jobs)\n",
    "    HTML =HTML.replace(\"PUBparagraph\", Pub)\n",
    "    HTML =HTML.replace(\"OTparagraph\", Other)\n",
    "    HTML =HTML.replace(\"theGender\", Gender)\n",
    "    HTML =HTML.replace(\"Bday\", birthday)\n",
    "    HTML =HTML.replace(\"theCountry\", Country)\n",
    "    HTML =HTML.replace(\"theRes\", Residence)\n",
    "    \n",
    "    if write:\n",
    "        fname =  FN + LN + str(SID) + \".html\"\n",
    "        with open(foldername + \"/\" + fname, 'w') as f:\n",
    "            f.write(HTML)\n",
    "        f.close()\n",
    "        \n",
    "        return FN, LN, SID, APc, APlc, fname\n",
    "        \n",
    "    else:\n",
    "        print(HTML)\n",
    "        \n"
   ]
  },
  {
   "cell_type": "code",
   "execution_count": null,
   "metadata": {},
   "outputs": [],
   "source": []
  }
 ],
 "metadata": {
  "kernelspec": {
   "display_name": "Python 3",
   "language": "python",
   "name": "python3"
  },
  "language_info": {
   "codemirror_mode": {
    "name": "ipython",
    "version": 3
   },
   "file_extension": ".py",
   "mimetype": "text/x-python",
   "name": "python",
   "nbconvert_exporter": "python",
   "pygments_lexer": "ipython3",
   "version": "3.7.10"
  }
 },
 "nbformat": 4,
 "nbformat_minor": 4
}
